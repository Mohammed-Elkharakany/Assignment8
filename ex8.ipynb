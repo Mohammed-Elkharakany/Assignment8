{
 "cells": [
  {
   "cell_type": "code",
   "execution_count": 5,
   "metadata": {},
   "outputs": [
    {
     "name": "stdout",
     "output_type": "stream",
     "text": [
      "C:\\My_Partition\\Study\\Fifth_Semester_Fall2024\\GIS\\Assignment8\\ex8\\Austin_Data.gdb\n"
     ]
    }
   ],
   "source": [
    "import arcpy\n",
    "import os\n",
    "pathname = r\"D:\\Before_Hard_Drive\\Study\\Fifth_Semester_Fall2024\\GIS_Programming_GEOG_4057\\Assignments\\Assignment8\\ex8\"\n",
    "aprx = arcpy.mp.ArcGISProject(os.path.join(pathname,\"Austin.aprx\"))\n",
    "print(aprx.defaultGeodatabase)"
   ]
  },
  {
   "cell_type": "code",
   "execution_count": 6,
   "metadata": {},
   "outputs": [],
   "source": [
    "aprx.saveACopy(os.path.join(pathname,'Austin_Copy.aprx'))"
   ]
  },
  {
   "cell_type": "markdown",
   "metadata": {},
   "source": [
    "Yes, I see everything, inside the ArcGIS Pro, is the same. However, the file size of the Austin_Copy.aprx is less than the original one (Austin.aprx). \n",
    "\n",
    "Differences in file sizes could be due to:\n",
    "•\tTemporary files\n",
    "•\tProject history\n",
    "•\tMetadata changes\n",
    "•\tDifferences in how the software saves the project\n",
    "•\tAdditional data being included in one of the files\n",
    "•\tThe way ArcGIS Pro handles project copies"
   ]
  },
  {
   "cell_type": "markdown",
   "metadata": {},
   "source": [
    "## Work with maps"
   ]
  },
  {
   "cell_type": "code",
   "execution_count": 1,
   "metadata": {},
   "outputs": [
    {
     "name": "stdout",
     "output_type": "stream",
     "text": [
      "Downtown\n",
      "Foot_US\n",
      "Region\n",
      "Foot_US\n"
     ]
    }
   ],
   "source": [
    "## print a list of maps in the project\n",
    "aprx = arcpy.mp.ArcGISProject('CURRENT')\n",
    "maps = aprx.listMaps()\n",
    "for m in maps:\n",
    "    print(m.name)\n",
    "    print(m.mapUnits)\n",
    "del aprx"
   ]
  },
  {
   "cell_type": "markdown",
   "metadata": {},
   "source": [
    "•\tThe del is used to remove the reference explicitly in the script. It deletes the aprx variable, which holds the reference to the ArcGISProject object."
   ]
  },
  {
   "cell_type": "markdown",
   "metadata": {},
   "source": [
    "•\tThe del statement did not delete the project file from my disk. It only removes the aprx object from the current Python environment, freeing up memory."
   ]
  },
  {
   "cell_type": "code",
   "execution_count": 2,
   "metadata": {},
   "outputs": [],
   "source": [
    "## change the name of a map\n",
    "aprx = arcpy.mp.ArcGISProject('CURRENT')\n",
    "m = aprx.listMaps(\"Region\")[0]\n",
    "m.name = \"County\"\n",
    "del aprx"
   ]
  },
  {
   "cell_type": "code",
   "execution_count": 3,
   "metadata": {},
   "outputs": [
    {
     "name": "stdout",
     "output_type": "stream",
     "text": [
      "Map: Downtown\n",
      "trees\n",
      "parks\n",
      "base\n",
      "Topographic\n",
      "Map: County\n",
      "facilities\n",
      "hospitals\n",
      "parks\n",
      "Topographic\n"
     ]
    }
   ],
   "source": [
    "## list the layers in a map\n",
    "aprx = arcpy.mp.ArcGISProject('CURRENT')\n",
    "maps = aprx.listMaps()\n",
    "for m in maps:\n",
    "    print(\"Map: \" + m.name)\n",
    "    lyrs = m.listLayers()\n",
    "    for lyr in lyrs:\n",
    "        print(lyr.name)\n",
    "del aprx"
   ]
  },
  {
   "cell_type": "code",
   "execution_count": 4,
   "metadata": {},
   "outputs": [
    {
     "name": "stdout",
     "output_type": "stream",
     "text": [
      "trees is a feature layer\n",
      "parks is a feature layer\n",
      "base is a feature layer\n",
      "Topographic is a basemap layer\n"
     ]
    }
   ],
   "source": [
    "## print if a layer is a basemap or a feature layer\n",
    "aprx = arcpy.mp.ArcGISProject('CURRENT')\n",
    "m = aprx.listMaps(\"Downtown\")[0]\n",
    "lyrs = m.listLayers()\n",
    "for lyr in lyrs:\n",
    "    if lyr.isBasemapLayer:\n",
    "        print(lyr.name + \" is a basemap layer\")\n",
    "    if lyr.isFeatureLayer:\n",
    "        print(lyr.name + \" is a feature layer\")\n",
    "del aprx"
   ]
  },
  {
   "cell_type": "code",
   "execution_count": 5,
   "metadata": {},
   "outputs": [],
   "source": [
    "## change the basemap of Downtown\n",
    "aprx = arcpy.mp.ArcGISProject('CURRENT')\n",
    "m = aprx.listMaps(\"Downtown\")[0]\n",
    "m.addBasemap(\"Light Gray Canvas\")"
   ]
  },
  {
   "cell_type": "markdown",
   "metadata": {},
   "source": [
    "Yes, the basemap is changed."
   ]
  },
  {
   "cell_type": "markdown",
   "metadata": {},
   "source": [
    "## Work with layers"
   ]
  },
  {
   "cell_type": "code",
   "execution_count": 6,
   "metadata": {},
   "outputs": [],
   "source": [
    "##Modify layer symbology\n",
    "aprx = arcpy.mp.ArcGISProject(\"CURRENT\")\n",
    "m = aprx.listMaps(\"Downtown\")[0]\n",
    "lyr = m.listLayers(\"parks\")[0]\n",
    "sym = lyr.symbology\n",
    "green = {\"RGB\": [100, 175, 0, 100]}\n",
    "if lyr.isFeatureLayer and hasattr(sym, \"renderer\"):\n",
    "    sym.renderer.symbol.color = green\n",
    "    lyr.symbology = sym"
   ]
  },
  {
   "cell_type": "code",
   "execution_count": 7,
   "metadata": {},
   "outputs": [],
   "source": [
    "##Modify layer symbology to brown\n",
    "aprx = arcpy.mp.ArcGISProject(\"CURRENT\")\n",
    "m = aprx.listMaps(\"Downtown\")[0]\n",
    "lyr = m.listLayers(\"parks\")[0]\n",
    "sym = lyr.symbology\n",
    "green = {\"RGB\": [165, 42, 42, 100]}\n",
    "if lyr.isFeatureLayer and hasattr(sym, \"renderer\"):\n",
    "    sym.renderer.symbol.color = green\n",
    "    lyr.symbology = sym"
   ]
  },
  {
   "cell_type": "code",
   "execution_count": 8,
   "metadata": {},
   "outputs": [],
   "source": [
    "##Modify layer symbology to brown\n",
    "aprx = arcpy.mp.ArcGISProject(\"CURRENT\")\n",
    "m = aprx.listMaps(\"Downtown\")[0]\n",
    "lyr = m.listLayers(\"parks\")[0]\n",
    "sym = lyr.symbology\n",
    "green = {\"RGB\": [139, 69, 19, 100]}\n",
    "if lyr.isFeatureLayer and hasattr(sym, \"renderer\"):\n",
    "    sym.renderer.symbol.color = green\n",
    "    lyr.symbology = sym"
   ]
  },
  {
   "cell_type": "markdown",
   "metadata": {},
   "source": [
    "## Work with a layout\n"
   ]
  },
  {
   "cell_type": "code",
   "execution_count": 9,
   "metadata": {},
   "outputs": [],
   "source": [
    "##Add a layout to the project\n",
    "aprx = arcpy.mp.ArcGISProject(\"CURRENT\")\n",
    "m = aprx.listMaps(\"Downtown\")[0]\n",
    "\n",
    "lyt = aprx.createLayout( 11,8.5, 'INCH', 'New Layout with Rectangles')\n",
    "\n",
    "def MakeRec_LL(llx, lly, w, h):\n",
    "    xyRecList = [[llx, lly], [llx, lly+h], [llx+w,lly+h], [llx+w,lly], [llx,lly]]\n",
    "    array = arcpy.Array([arcpy.Point(*coords) for coords in xyRecList])\n",
    "    rec = arcpy.Polygon(array)\n",
    "    return rec\n",
    "\n",
    "mf = lyt.createMapFrame(MakeRec_LL(0.5,0.5,10,7.5), m, \"New Map Frame\")\n"
   ]
  },
  {
   "cell_type": "markdown",
   "metadata": {},
   "source": [
    "•\tThe layout size is specified as 11 inches (width) by 8.5 inches (height)."
   ]
  },
  {
   "cell_type": "markdown",
   "metadata": {},
   "source": [
    "\n",
    "•\tThe map frame size is specified as 10 inches (width) by 7.5 inches (height).\n",
    "\n",
    "\n"
   ]
  },
  {
   "cell_type": "markdown",
   "metadata": {},
   "source": [
    "\tCreating layouts and map frames using Python (with ArcPy) has several advantages over manual creation in ArcGIS Pro:\n"
   ]
  },
  {
   "cell_type": "markdown",
   "metadata": {},
   "source": [
    "•\tAutomation : You can automate the creation of multiple layouts and map frames, which is useful if you need to generate maps for multiple areas or datasets.\n",
    "•\tConsistency: Ensures that all layouts and map frames adhere to the same specifications\n",
    "•\tTime-saving: Significantly reduces the time required for repetitive tasks.\n",
    "•\tDynamic Adjustments\n",
    "•\tReproducibility"
   ]
  },
  {
   "cell_type": "markdown",
   "metadata": {},
   "source": [
    "## Add layout elements"
   ]
  },
  {
   "cell_type": "code",
   "execution_count": 12,
   "metadata": {},
   "outputs": [],
   "source": [
    "##create a north arrow and a scale bar\n",
    "#Create a north arrow\n",
    "naStyle = aprx.listStyleItems('ArcGIS 2D', 'North_Arrow', 'Compass North 1')[0]\n",
    "na = lyt.createMapSurroundElement(arcpy.Point(9.5,7.5), 'North_Arrow', mf,\n",
    "                                      naStyle, \"Compass North Arrow\")\n",
    "na.elementWidth = 0.5  \n",
    "\n",
    "#Create a scale bar\n",
    "sbName = 'Double Alternating Scale Bar 1 Metric'\n",
    "sbStyle = aprx.listStyleItems('ArcGIS 2D', 'Scale_bar', sbName)[0]\n",
    "sbEnv = MakeRec_LL(5.5, 0.1, 4, 0.5)\n",
    "sb = lyt.createMapSurroundElement(sbEnv, 'Scale_bar', mf, sbStyle, 'New Scale Bar')"
   ]
  },
  {
   "cell_type": "code",
   "execution_count": 13,
   "metadata": {},
   "outputs": [],
   "source": [
    "##create a legend\n",
    "legSi = aprx.listStyleItems('ArcGIS 2D', 'LEGEND', 'Legend 3' )[0]\n",
    "leg = lyt.createMapSurroundElement(arcpy.Point(1,7), 'LEGEND', mf, legSi, 'New Legend Element')\n",
    "leg.elementWidth = 3\n",
    "leg.elementHeight = 3\n",
    "leg.fittingStrategy = 'AdjustFontSize'\n",
    "leg.columnCount = 1\n",
    "leg.title = 'Downtown'"
   ]
  },
  {
   "cell_type": "code",
   "execution_count": 21,
   "metadata": {},
   "outputs": [
    {
     "data": {
      "text/plain": [
       "'C:\\\\My_Partition\\\\Study\\\\Fifth_Semester_Fall2024\\\\GIS\\\\Assignment8\\\\ex8\\\\downtown.pdf'"
      ]
     },
     "execution_count": 21,
     "metadata": {},
     "output_type": "execute_result"
    }
   ],
   "source": [
    "##Export the layout to a pdf\n",
    "import os\n",
    "pathname = r\"D:\\Before_Hard_Drive\\Study\\Fifth_Semester_Fall2024\\GIS_Programming_GEOG_4057\\Assignments\\Assignment8\\ex8\"\n",
    "lyt.exportToPDF(os.path.join(pathname, 'downtown.pdf'))"
   ]
  },
  {
   "cell_type": "code",
   "execution_count": null,
   "metadata": {},
   "outputs": [],
   "source": []
  }
 ],
 "metadata": {
  "kernelspec": {
   "display_name": "ArcGISPro",
   "language": "Python",
   "name": "python3"
  },
  "language_info": {
   "file_extension": ".py",
   "name": "python",
   "version": "3"
  }
 },
 "nbformat": 4,
 "nbformat_minor": 2
}
